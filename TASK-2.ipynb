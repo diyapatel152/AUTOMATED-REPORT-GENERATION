{
 "cells": [
  {
   "cell_type": "code",
   "execution_count": 1,
   "id": "8cd400d5",
   "metadata": {},
   "outputs": [],
   "source": [
    "import pandas as pd\n",
    "import matplotlib.pyplot as plt\n",
    "from reportlab.pdfgen import canvas\n",
    "from reportlab.lib.pagesizes import A4\n",
    "from reportlab.lib.utils import ImageReader\n",
    "import os"
   ]
  },
  {
   "cell_type": "code",
   "execution_count": 2,
   "id": "901b6814",
   "metadata": {},
   "outputs": [],
   "source": [
    "df = pd.read_csv(\"test.csv\")"
   ]
  },
  {
   "cell_type": "code",
   "execution_count": 3,
   "id": "b71894a7",
   "metadata": {},
   "outputs": [],
   "source": [
    "total = len(df)\n",
    "average_age = df[\"Age\"].mean()\n",
    "average_fare = df[\"Fare\"].mean()\n",
    "gender_counts = df[\"Sex\"].value_counts()"
   ]
  },
  {
   "cell_type": "code",
   "execution_count": 4,
   "id": "392f62f6",
   "metadata": {},
   "outputs": [],
   "source": [
    "labels = gender_counts.index\n",
    "sizes = gender_counts.values\n",
    "colors = ['lightcoral', 'lightskyblue']\n",
    "\n",
    "plt.figure(figsize=(4, 4))\n",
    "plt.pie(sizes, labels=labels, colors=colors, autopct='%1.1f%%', startangle=140)\n",
    "plt.title(\"Gender Distribution\")\n",
    "plt.axis('equal')",
    "plt.tight_layout()\n",
    "plt.savefig(\"gender_pie.png\")\n",
    "plt.close()"
   ]
  },
  {
   "cell_type": "code",
   "execution_count": 5,
   "id": "b85fcfff",
   "metadata": {},
   "outputs": [],
   "source": [
    "def generate_pdf():\n",
    "    c = canvas.Canvas(\"Titanic.pdf\", pagesize=A4)\n",
    "    width, height = A4\n",
    "\n",
    "    # Title\n",
    "    c.setFont(\"Helvetica-Bold\", 16)\n",
    "    c.drawString(50, height - 50, \"Titanic Data Analysis Report\")\n",
    "\n",
    "    # Summary Text\n",
    "    y = height - 90\n",
    "    c.setFont(\"Helvetica\", 12)\n",
    "    c.drawString(50, y, f\"Total Passengers: {total}\")\n",
    "    y -= 20\n",
    "    c.drawString(50, y, f\"Average Age: {average_age:.2f}\")\n",
    "    y -= 20\n",
    "    c.drawString(50, y, f\"Average Fare: ${average_fare:.2f}\")\n",
    "    y -= 20\n",
    "    c.drawString(50, y, f\"Gender - Male: {gender_counts.get('male', 0)}, Female: {gender_counts.get('female', 0)}\")\n",
    "    y -= 40\n",
    "\n",
    "    # Insert Pie Chart\n",
    "    if os.path.exists(\"gender_pie.png\"):\n",
    "        pie = ImageReader(\"gender_pie.png\")\n",
    "        pie_width, pie_height = pie.getSize()\n",
    "        max_width = width - 100\n",
    "        scale = max_width / pie_width\n",
    "        scaled_width = pie_width * scale\n",
    "        scaled_height = pie_height * scale\n",
    "\n",
    "        if y - scaled_height < 50:\n",
    "            c.showPage()\n",
    "            y = height - 50\n",
    "\n",
    "        y -= scaled_height\n",
    "        c.drawImage(pie, 50, y, width=scaled_width, height=scaled_height)\n",
    "    else:\n",
    "        c.drawString(50, y, \"Pie chart image not found!\")\n",
    "\n",
    "    c.save()\n",
    "    print(\"✅ Titanic.pdf generated successfully.\")"
   ]
  },
  {
   "cell_type": "code",
   "execution_count": 6,
   "id": "fc84e65f",
   "metadata": {},
   "outputs": [
    {
     "name": "stdout",
     "output_type": "stream",
     "text": [
      "✅ Titanic.pdf generated successfully.\n"
     ]
    }
   ],
   "source": [
    "generate_pdf()"
   ]
  },
  {
   "cell_type": "code",
   "execution_count": null,
   "id": "93748160",
   "metadata": {},
   "outputs": [],
   "source": []
  }
 ],
 "metadata": {
  "kernelspec": {
   "display_name": "Python 3 (ipykernel)",
   "language": "python",
   "name": "python3"
  },
  "language_info": {
   "codemirror_mode": {
    "name": "ipython",
    "version": 3
   },
   "file_extension": ".py",
   "mimetype": "text/x-python",
   "name": "python",
   "nbconvert_exporter": "python",
   "pygments_lexer": "ipython3",
   "version": "3.11.4"
  }
 },
 "nbformat": 4,
 "nbformat_minor": 5
}
